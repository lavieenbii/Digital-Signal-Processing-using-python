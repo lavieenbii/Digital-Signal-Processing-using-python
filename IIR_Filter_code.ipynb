{
  "cells": [
    {
      "cell_type": "markdown",
      "metadata": {
        "id": "view-in-github",
        "colab_type": "text"
      },
      "source": [
        "<a href=\"https://colab.research.google.com/github/lavieenbii/Digital-Signal-Processing-using-python/blob/main/IIR_Filter_code.ipynb\" target=\"_parent\"><img src=\"https://colab.research.google.com/assets/colab-badge.svg\" alt=\"Open In Colab\"/></a>"
      ]
    },
    {
      "cell_type": "markdown",
      "metadata": {
        "id": "oIKsd_LcM8cZ"
      },
      "source": [
        "# Designing IIR Bandpass Butterworth Filter"
      ]
    },
    {
      "cell_type": "code",
      "execution_count": null,
      "metadata": {
        "id": "C9IwVIMKM8cg"
      },
      "outputs": [],
      "source": [
        "import numpy as np\n",
        "import matplotlib.pyplot as plt\n",
        "from matplotlib import style\n",
        "import scipy\n",
        "from scipy import signal"
      ]
    },
    {
      "cell_type": "markdown",
      "metadata": {
        "id": "fOtfXlkzM8cp"
      },
      "source": [
        "# 1 - Low pass Butterworth IIR Filter\n",
        "\n"
      ]
    },
    {
      "cell_type": "code",
      "execution_count": null,
      "metadata": {
        "id": "BYOOdQcjM8cp"
      },
      "outputs": [],
      "source": [
        "import numpy as np\n",
        "import matplotlib.pyplot as plt\n",
        "from matplotlib import style\n",
        "import scipy\n",
        "from scipy import signal"
      ]
    },
    {
      "cell_type": "code",
      "execution_count": null,
      "metadata": {
        "id": "c2jqKxUsM8cq"
      },
      "outputs": [],
      "source": [
        "# Generating Signal\n",
        "srate     = 1024 # hz\n",
        "t = np.arange(0,5,1/srate)\n",
        "pnts   = len(t)\n",
        "Nyquist = srate/2\n",
        "\n",
        "x = 40 * np.sin(2*np.pi*50*t)\n",
        "noise =  50 * np.random.randn(pnts)\n",
        "Nsignal     =   x + noise\n",
        "\n",
        "plt.figure(figsize = (20,10)) # set the size of figure\n",
        "style.use('dark_background')\n",
        "plt.rcParams['xtick.labelsize'] = 15\n",
        "plt.rcParams['ytick.labelsize'] = 15\n",
        "plt.plot(t,Nsignal,'g-',label='Signal')\n",
        "plt.legend(fontsize = 20)\n",
        "plt.xlabel('time',fontsize = 15)\n",
        "plt.ylabel('Amplitude',fontsize = 15)\n",
        "plt.show()"
      ]
    },
    {
      "cell_type": "code",
      "execution_count": null,
      "metadata": {
        "id": "pQOIiSr7M8cq"
      },
      "outputs": [],
      "source": [
        "# Low pass filter\n",
        "cutoff = 30\n",
        "\n",
        "# generate filter coefficients (Butterworth)\n",
        "fCoefsB,fCoefsA = signal.butter(11,cutoff/Nyquist,btype='low')\n",
        "\n",
        "# Evaluste the filter\n",
        "impulse  = np.zeros(501)\n",
        "impulse[251] = 1\n",
        "impulse_res = signal.filtfilt(fCoefsB,fCoefsA,impulse)\n",
        "\n",
        "# plotting\n",
        "plt.figure(figsize = (24,10)) # set the size of figure\n",
        "style.use('dark_background')\n",
        "plt.rcParams['xtick.labelsize'] = 15\n",
        "plt.rcParams['ytick.labelsize'] = 15\n",
        "impulse_time  = np.arange(0,len(impulse))/srate\n",
        "plt.plot(impulse_time,impulse,'g',linewidth =3,label='Impulse')\n",
        "plt.plot(impulse_time,impulse_res/np.max(impulse_res),'r',linewidth =3,label='Impulse response')\n",
        "plt.xlabel('time', fontsize =15)\n",
        "plt.legend(fontsize =15)\n",
        "plt.title('Time domain Low pass IIR filter', fontsize =25)"
      ]
    },
    {
      "cell_type": "code",
      "execution_count": null,
      "metadata": {
        "id": "0gc90LJWM8cr"
      },
      "outputs": [],
      "source": [
        "# Find power spectrum\n",
        "f_impulse = np.abs(scipy.fft.fft(impulse_res,pnts))**2\n",
        "Hz = np.linspace(0,Nyquist,int(np.floor(pnts/2)+1))\n",
        "\n",
        "plt.figure(figsize = (24,10)) # set the size of figure\n",
        "style.use('dark_background')\n",
        "plt.rcParams['xtick.labelsize'] = 15\n",
        "plt.rcParams['ytick.labelsize'] = 15\n",
        "\n",
        "plt.plot(Hz,f_impulse[:len(Hz)],'g',linewidth =3,label = 'Actual filter')\n",
        "plt.plot([0,cutoff,cutoff, Nyquist],[1,1,0,0],'r',linewidth =3, label = 'Desired filter')\n",
        "plt.xlim([0,60])\n",
        "plt.xlabel('Frequency', fontsize = 15)\n",
        "plt.ylabel('Gain', fontsize =15)\n",
        "plt.title('Frequency domain filter characteristics', fontsize = 25)\n",
        "plt.legend(fontsize =20)\n",
        "plt.show()"
      ]
    },
    {
      "cell_type": "code",
      "execution_count": null,
      "metadata": {
        "id": "iNHu4XP9M8cr"
      },
      "outputs": [],
      "source": [
        "# Filtering the data in time domain\n",
        "\n",
        "filt_sig = signal.filtfilt(fCoefsB,fCoefsA,Nsignal)\n",
        "\n",
        "plt.figure(figsize = (24,10)) # set the size of figure\n",
        "style.use('dark_background')\n",
        "plt.rcParams['xtick.labelsize'] = 15\n",
        "plt.rcParams['ytick.labelsize'] = 15\n",
        "plt.plot(t,Nsignal,'g',label='Original')\n",
        "plt.plot(t,filt_sig,'r',linewidth=3,label='Filtered')\n",
        "plt.xlabel('time', fontsize =15)\n",
        "plt.ylabel('amplitude' , fontsize =15)\n",
        "plt.title('Time domain filtering', fontsize =25)\n",
        "plt.legend(fontsize =15)\n",
        "plt.show()"
      ]
    },
    {
      "cell_type": "code",
      "execution_count": null,
      "metadata": {
        "id": "Po8sAhORM8cs"
      },
      "outputs": [],
      "source": [
        "# Frequency domain filtering.\n",
        "NsignalX = np.abs(scipy.fft.fft(Nsignal)/pnts)**2\n",
        "filt_sigX = np.abs(scipy.fft.fft(filt_sig)/pnts)**2\n",
        "\n",
        "plt.figure(figsize = (20,10)) # set the size of figure\n",
        "style.use('dark_background')\n",
        "plt.rcParams['xtick.labelsize'] = 15\n",
        "plt.rcParams['ytick.labelsize'] = 15\n",
        "plt.plot(Hz,NsignalX[0:len(Hz)],'g',linewidth =3,label='Signal')\n",
        "plt.plot(Hz,filt_sigX[0:len(Hz)],'r',linewidth =3,label='Filtered at cutoff = 30')\n",
        "plt.plot([cutoff,cutoff],[0,1000],'b--',linewidth =5)\n",
        "plt.xlim([0,80])\n",
        "plt.yscale('log')\n",
        "plt.legend(fontsize = 20)\n",
        "plt.xlabel('Frequency', fontsize = 20)\n",
        "plt.title('Low pass filtering in frequency domain', fontsize = 25)\n",
        "plt.show()"
      ]
    },
    {
      "cell_type": "markdown",
      "metadata": {
        "id": "aQY51hmnM8ct"
      },
      "source": [
        "# 2 - High pass Butterworth IIR Filter"
      ]
    },
    {
      "cell_type": "code",
      "execution_count": null,
      "metadata": {
        "id": "rjQiNNRJM8ct"
      },
      "outputs": [],
      "source": [
        "import numpy as np\n",
        "import matplotlib.pyplot as plt\n",
        "from matplotlib import style\n",
        "import scipy\n",
        "from scipy import signal"
      ]
    },
    {
      "cell_type": "code",
      "execution_count": null,
      "metadata": {
        "id": "Zsmm7nBoM8ct"
      },
      "outputs": [],
      "source": [
        "# Generating Signal\n",
        "\n",
        "srate     = 1024 # hz\n",
        "t = np.arange(0,5,1/srate)\n",
        "pnts   = len(t)\n",
        "Nyquist = srate/2\n",
        "\n",
        "x = 40 * np.sin(2*np.pi*50*t)\n",
        "noise =  50 * np.random.randn(pnts)\n",
        "Nsignal     =   x + noise\n",
        "\n",
        "plt.figure(figsize = (20,10)) # set the size of figure\n",
        "style.use('dark_background')\n",
        "plt.rcParams['xtick.labelsize'] = 15\n",
        "plt.rcParams['ytick.labelsize'] = 15\n",
        "plt.plot(t,Nsignal,'g-',label='Signal')\n",
        "plt.legend(fontsize = 20)\n",
        "plt.xlabel('time',fontsize = 15)\n",
        "plt.ylabel('Amplitude',fontsize = 15)\n",
        "plt.show()"
      ]
    },
    {
      "cell_type": "code",
      "execution_count": null,
      "metadata": {
        "id": "FCFOQOSKM8cu"
      },
      "outputs": [],
      "source": [
        "# High pass filter\n",
        "cutoff = 30\n",
        "\n",
        "# generate filter coefficients (Butterworth)\n",
        "fCoefsB,fCoefsA = signal.butter(11,cutoff/Nyquist,btype='high')\n",
        "\n",
        "# Evaluste the filter\n",
        "impulse  = np.zeros(501)\n",
        "impulse[251] = 1\n",
        "impulse_res = signal.filtfilt(fCoefsB,fCoefsA,impulse)\n",
        "\n",
        "# plotting\n",
        "plt.figure(figsize = (24,10)) # set the size of figure\n",
        "style.use('dark_background')\n",
        "plt.rcParams['xtick.labelsize'] = 15\n",
        "plt.rcParams['ytick.labelsize'] = 15\n",
        "impulse_time  = np.arange(0,len(impulse))/srate\n",
        "plt.plot(impulse_time,impulse,'g',linewidth = 3,label='Impulse')\n",
        "plt.plot(impulse_time,impulse_res/np.max(impulse_res),'r',linewidth =3,label='Impulse response')\n",
        "plt.xlabel('time', fontsize =15)\n",
        "plt.legend(fontsize =25)\n",
        "plt.title('Time domain high pass IIR filter', fontsize = 25)"
      ]
    },
    {
      "cell_type": "code",
      "execution_count": null,
      "metadata": {
        "id": "4rxcPh64M8cu"
      },
      "outputs": [],
      "source": [
        "# Find power spectrum\n",
        "f_impulse = np.abs(scipy.fft.fft(impulse_res,pnts))**2\n",
        "Hz = np.linspace(0,Nyquist,int(np.floor(pnts/2)+1))\n",
        "\n",
        "plt.figure(figsize = (24,10)) # set the size of figure\n",
        "style.use('dark_background')\n",
        "plt.rcParams['xtick.labelsize'] = 15\n",
        "plt.rcParams['ytick.labelsize'] = 15\n",
        "plt.plot(Hz,f_impulse[:len(Hz)],'g',linewidth =3,label = 'Actual filter')\n",
        "plt.plot([0,cutoff,cutoff, Nyquist],[0, 0, 1, 1],'r',linewidth =3, label = 'Desired filter')\n",
        "plt.xlim([0,60])\n",
        "plt.xlabel('Frequency', fontsize = 15)\n",
        "plt.ylabel('Gain', fontsize =15)\n",
        "plt.title('Frequency domain filter characteristics', fontsize = 25)\n",
        "plt.legend(fontsize =20)\n",
        "plt.show()"
      ]
    },
    {
      "cell_type": "code",
      "execution_count": null,
      "metadata": {
        "id": "I-_Czm_sM8cu"
      },
      "outputs": [],
      "source": [
        "# Filtering the data in time domain\n",
        "filt_sig = signal.filtfilt(fCoefsB,fCoefsA,Nsignal)\n",
        "\n",
        "plt.figure(figsize = (24,10)) # set the size of figure\n",
        "style.use('dark_background')\n",
        "plt.rcParams['xtick.labelsize'] = 15\n",
        "plt.rcParams['ytick.labelsize'] = 15\n",
        "plt.plot(t,Nsignal,'g',label='Original')\n",
        "plt.plot(t,filt_sig,'r',linewidth=3,label='Filtered')\n",
        "plt.xlabel('time', fontsize =15)\n",
        "plt.ylabel('amplitude' , fontsize =15)\n",
        "plt.title('Time domain filtering', fontsize =25)\n",
        "plt.legend(fontsize =15)\n",
        "plt.show()"
      ]
    },
    {
      "cell_type": "code",
      "execution_count": null,
      "metadata": {
        "scrolled": true,
        "id": "bc32tHWYM8cu"
      },
      "outputs": [],
      "source": [
        "# Frequency domain filtering\n",
        "NsignalX = np.abs(scipy.fft.fft(Nsignal)/pnts)**2\n",
        "filt_sigX = np.abs(scipy.fft.fft(filt_sig)/pnts)**2\n",
        "\n",
        "plt.figure(figsize = (20,10)) # set the size of figure\n",
        "style.use('dark_background')\n",
        "plt.rcParams['xtick.labelsize'] = 15\n",
        "plt.rcParams['ytick.labelsize'] = 15\n",
        "plt.plot(Hz,NsignalX[0:len(Hz)],'g',linewidth =3,label='Signal')\n",
        "plt.plot(Hz,filt_sigX[0:len(Hz)],'r',linewidth =3,label='Filtered at cutoff = 30')\n",
        "plt.plot([cutoff,cutoff],[0,1000],'b--',linewidth =5)\n",
        "plt.xlim([0,80])\n",
        "plt.yscale('log')\n",
        "plt.legend(fontsize = 20)\n",
        "plt.xlabel('Frequency', fontsize = 20)\n",
        "plt.title('High pass filtering in frequency domain', fontsize = 25)\n",
        "plt.show()\n"
      ]
    },
    {
      "cell_type": "markdown",
      "metadata": {
        "id": "UEkBhVtcM8cv"
      },
      "source": [
        "# 3 - Bandpass Butterworth IIR filter"
      ]
    },
    {
      "cell_type": "code",
      "execution_count": null,
      "metadata": {
        "id": "AF0AA6FRM8cw"
      },
      "outputs": [],
      "source": [
        "import numpy as np\n",
        "import matplotlib.pyplot as plt\n",
        "from matplotlib import style\n",
        "import scipy\n",
        "from scipy import signal"
      ]
    },
    {
      "cell_type": "code",
      "execution_count": null,
      "metadata": {
        "id": "5lqX7WWJM8cw"
      },
      "outputs": [],
      "source": [
        "# Generating Signal\n",
        "srate     = 1024 # hz\n",
        "t = np.arange(0,5,1/srate)\n",
        "pnts   = len(t)\n",
        "Nyquist = srate/2\n",
        "\n",
        "x = 40*np.sin(2*np.pi*50*t)\n",
        "noise =  50*np.random.randn(pnts)\n",
        "Nsignal     =   x + noise\n",
        "\n",
        "plt.figure(figsize = (20,10)) # set the size of figure\n",
        "style.use('dark_background')\n",
        "plt.rcParams['xtick.labelsize'] = 15\n",
        "plt.rcParams['ytick.labelsize'] = 15\n",
        "plt.plot(t,Nsignal,'g-',label='Signal')\n",
        "plt.legend(fontsize = 20)\n",
        "plt.xlabel('time',fontsize = 15)\n",
        "plt.ylabel('Amplitude',fontsize = 15)\n",
        "plt.show()"
      ]
    },
    {
      "cell_type": "code",
      "execution_count": null,
      "metadata": {
        "id": "CgbHjASPM8cx"
      },
      "outputs": [],
      "source": [
        "# Band pass filter\n",
        "cutoff = [30,40]\n",
        "\n",
        "# generate filter coefficients (Butterworth)\n",
        "fCoefsB,fCoefsA = signal.butter(2, np.array(cutoff)/Nyquist, btype='bandpass')\n",
        "\n",
        "# Evaluate the filter\n",
        "impulse  = np.zeros(501)\n",
        "impulse[251] = 1\n",
        "impulse_res = signal.filtfilt(fCoefsB,fCoefsA,impulse)\n",
        "\n",
        "# plotting\n",
        "plt.figure(figsize = (24,10)) # set the size of figure\n",
        "style.use('dark_background')\n",
        "plt.rcParams['xtick.labelsize'] = 15\n",
        "plt.rcParams['ytick.labelsize'] = 15\n",
        "impulse_time  = np.arange(0,len(impulse))/srate\n",
        "plt.plot(impulse_time,impulse,'g',linewidth = 3,label='Impulse')\n",
        "plt.plot(impulse_time,impulse_res/np.max(impulse_res),'r',linewidth =3,label='Impulse response')\n",
        "plt.xlabel('time', fontsize =15)\n",
        "plt.legend(fontsize =25)\n",
        "plt.title('Time domain bandpass pass IIR filter', fontsize = 25)\n",
        " "
      ]
    },
    {
      "cell_type": "code",
      "execution_count": null,
      "metadata": {
        "id": "6pJCu3uRM8cx"
      },
      "outputs": [],
      "source": [
        "# Find power spectrum\n",
        "f_impulse = np.abs(scipy.fft.fft(impulse_res,pnts))**2\n",
        "Hz = np.linspace(0,Nyquist,int(np.floor(pnts/2)+1))\n",
        "\n",
        "plt.figure(figsize = (24,10)) # set the size of figure\n",
        "style.use('dark_background')\n",
        "plt.rcParams['xtick.labelsize'] = 15\n",
        "plt.rcParams['ytick.labelsize'] = 15\n",
        "plt.plot(Hz,f_impulse[0:len(Hz)]/max(f_impulse),'g',linewidth =3,label = 'Actual filter')\n",
        "plt.plot([0,cutoff[0],cutoff[0],cutoff[1],cutoff[1], Nyquist],[0, 0, 1, 1, 0, 0],'r',linewidth =3, label = 'Desired filter')\n",
        "plt.xlim([0,70])\n",
        "plt.xlabel('Frequency', fontsize = 15)\n",
        "plt.ylabel('Gain', fontsize =15)\n",
        "plt.title('Frequency domain filter characteristics', fontsize = 25)\n",
        "plt.legend(fontsize =20)\n",
        "plt.show()"
      ]
    },
    {
      "cell_type": "code",
      "execution_count": null,
      "metadata": {
        "id": "3N66zGqFM8cy"
      },
      "outputs": [],
      "source": [
        "# Filtering the data in time domain\n",
        "filt_sig = signal.filtfilt(fCoefsB,fCoefsA,Nsignal)\n",
        "\n",
        "plt.figure(figsize = (24,10)) # set the size of figure\n",
        "style.use('dark_background')\n",
        "plt.rcParams['xtick.labelsize'] = 15\n",
        "plt.rcParams['ytick.labelsize'] = 15\n",
        "plt.plot(t,Nsignal,'g',label='Original')\n",
        "plt.plot(t,filt_sig,'r',linewidth=3,label='Filtered')\n",
        "plt.xlabel('time', fontsize =15)\n",
        "plt.ylabel('amplitude' , fontsize =15)\n",
        "plt.title('Time domain filtering', fontsize =25)\n",
        "plt.legend(fontsize =15)\n",
        "plt.show()"
      ]
    },
    {
      "cell_type": "code",
      "execution_count": null,
      "metadata": {
        "id": "T8_SaE4iM8cy"
      },
      "outputs": [],
      "source": [
        "# Frequency domain filtering\n",
        "NsignalX = np.abs(scipy.fft.fft(Nsignal)/pnts)**2\n",
        "filt_sigX = np.abs(scipy.fft.fft(filt_sig)/pnts)**2\n",
        "\n",
        "plt.figure(figsize = (20,10)) # set the size of figure\n",
        "style.use('dark_background')\n",
        "plt.rcParams['xtick.labelsize'] = 15\n",
        "plt.rcParams['ytick.labelsize'] = 15\n",
        "plt.plot(Hz,NsignalX[0:len(Hz)],'g',linewidth =3,label='Signal')\n",
        "plt.plot(Hz,filt_sigX[0:len(Hz)],'r',linewidth =3,label='Filtered at cutoff = 30')\n",
        "plt.plot([cutoff[0],cutoff[0]],[0,1000],'b--',linewidth =5)\n",
        "plt.plot([cutoff[1],cutoff[1]],[0,1000],'b--',linewidth =5)\n",
        "plt.xlim([0,80])\n",
        "plt.yscale('log')\n",
        "plt.legend(fontsize = 20)\n",
        "plt.xlabel('Frequency', fontsize = 20)\n",
        "plt.title('Band pass filtering in frequency domain', fontsize = 25)\n",
        "plt.show()"
      ]
    },
    {
      "cell_type": "markdown",
      "source": [
        "# 4 - Bandstop IIR Filter"
      ],
      "metadata": {
        "id": "qy57Y2d1cNme"
      }
    },
    {
      "cell_type": "code",
      "source": [
        "# write your own codes here..\n",
        "# bandstop for 30 - 50 Hz\n",
        "import numpy as np\n",
        "import matplotlib.pyplot as plt\n",
        "from matplotlib import style\n",
        "import scipy\n",
        "from scipy import signal"
      ],
      "metadata": {
        "id": "1oSRIs8gcV55"
      },
      "execution_count": null,
      "outputs": []
    }
  ],
  "metadata": {
    "kernelspec": {
      "display_name": "Python 3",
      "language": "python",
      "name": "python3"
    },
    "language_info": {
      "codemirror_mode": {
        "name": "ipython",
        "version": 3
      },
      "file_extension": ".py",
      "mimetype": "text/x-python",
      "name": "python",
      "nbconvert_exporter": "python",
      "pygments_lexer": "ipython3",
      "version": "3.7.4"
    },
    "colab": {
      "provenance": [],
      "include_colab_link": true
    }
  },
  "nbformat": 4,
  "nbformat_minor": 0
}